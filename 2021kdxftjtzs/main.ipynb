{
 "metadata": {
  "language_info": {
   "codemirror_mode": {
    "name": "ipython",
    "version": 3
   },
   "file_extension": ".py",
   "mimetype": "text/x-python",
   "name": "python",
   "nbconvert_exporter": "python",
   "pygments_lexer": "ipython3",
   "version": "3.8.10"
  },
  "orig_nbformat": 2,
  "kernelspec": {
   "name": "python3810jvsc74a57bd07e85ec9bf098c5427e45e2f632dcd4eeff803b007e1abd287d600879388709c1",
   "display_name": "Python 3.8.10 64-bit ('python@3.8')"
  },
  "metadata": {
   "interpreter": {
    "hash": "7e85ec9bf098c5427e45e2f632dcd4eeff803b007e1abd287d600879388709c1"
   }
  }
 },
 "nbformat": 4,
 "nbformat_minor": 2,
 "cells": [
  {
   "cell_type": "code",
   "execution_count": 146,
   "metadata": {},
   "outputs": [],
   "source": [
    "import pandas as pd\n",
    "import numpy as np\n",
    "import json\n",
    "import lightgbm as lgb"
   ]
  },
  {
   "cell_type": "code",
   "execution_count": 266,
   "metadata": {},
   "outputs": [],
   "source": [
    "def rename_columns(data):\n",
    "    trafo_dict = {x:int(y) for x, y in zip( data.columns, np.linspace(0, data.shape[1]-1, data.shape[1]))}\n",
    "    data = data.rename(columns = trafo_dict)\n",
    "    return data\n",
    "\n",
    "def read_data():\n",
    "    df_train = pd.read_table(\"./train/train.txt\", sep = \",\", header = None)\n",
    "    df_test = pd.read_table(\"./test/apply_new.txt\", sep = \",\", header = None)\n",
    "    df_train.insert(df_train.shape[1], df_train.shape[1], df_train.iloc[:, 1])\n",
    "    df_train.drop(1, axis = 1, inplace = True)\n",
    "    df_train = rename_columns(df_train)\n",
    "    test_user_id = df_test.iloc[:, 0]\n",
    "    return df_train, df_test, test_user_id\n",
    "\n",
    "def feature_engineering(data):\n",
    "    data = data.fillna(-1)  \n",
    "    data.iloc[:, 3] = data.iloc[:, 3].apply(json.loads)\n",
    "    data.iloc[:, 3] = data.iloc[:, 3].apply(lambda x: x[0])\n",
    "    data.drop(4, axis = 1, inplace=True)\n",
    "    data = rename_columns(data)\n",
    "    data.iloc[:, :] = data.iloc[:, :].astype(\"category\")\n",
    "    return data\n",
    "\n",
    "def get_train_val_test_data(df_train, df_test, ratio):\n",
    "    All_X_train = df_train.iloc[:, 1:-1]\n",
    "    X_train = df_train.iloc[:int(df_train.shape[0] * ratio), 1:-1]\n",
    "    X_val = df_train.iloc[int(df_train.shape[0] * ratio): , 1:-1]\n",
    "    X_test = df_test.iloc[: , 1:]\n",
    "\n",
    "    All_y_train = df_train.iloc[:, -1]\n",
    "    y_train = df_train.iloc[:int(df_train.shape[0] * ratio), -1]\n",
    "    y_val = df_train.iloc[int(df_train.shape[0] * ratio):, -1]\n",
    "    return All_X_train, All_y_train, X_train, X_val, X_test, y_train, y_val"
   ]
  },
  {
   "cell_type": "code",
   "execution_count": 267,
   "metadata": {},
   "outputs": [],
   "source": [
    "df_train, df_test, test_user_id = read_data()\n",
    "df_train, df_test = feature_engineering(df_train), feature_engineering(df_test)\n",
    "All_X_train, All_y_train, X_train, X_val, X_test, y_train, y_val = get_train_val_test_data(df_train, df_test, 0.7)"
   ]
  },
  {
   "cell_type": "code",
   "execution_count": 221,
   "metadata": {},
   "outputs": [
    {
     "output_type": "execute_result",
     "data": {
      "text/plain": [
       "          1    2         3    4      5     6             7\n",
       "0      -1.0 -1.0   4457057   广西     北海    华为  华为 mate20pro\n",
       "1      -1.0  5.0  10577375   广东     广州  OPPO           r11\n",
       "2      -1.0 -1.0  11171956  内蒙古  锡林郭勒盟    小米    小米 红米note2\n",
       "3      -1.0  2.0   4457927   四川     成都  vivo      vivo x20\n",
       "4      -1.0 -1.0   5737867   湖南     长沙  vivo           x23\n",
       "...     ...  ...       ...  ...    ...   ...           ...\n",
       "209995 -1.0  3.0  13669217   江苏     宿迁    小米          小米 6\n",
       "209996  0.0  5.0  13320587   北京     北京    荣耀            v8\n",
       "209997 -1.0  3.0  10573044   湖北     襄阳    华为        华为 畅享9\n",
       "209998 -1.0  1.0  10158594   湖南     常德  OPPO           r9s\n",
       "209999 -1.0  3.0  10978146   辽宁     沈阳  OPPO            a7\n",
       "\n",
       "[210000 rows x 7 columns]"
      ],
      "text/html": "<div>\n<style scoped>\n    .dataframe tbody tr th:only-of-type {\n        vertical-align: middle;\n    }\n\n    .dataframe tbody tr th {\n        vertical-align: top;\n    }\n\n    .dataframe thead th {\n        text-align: right;\n    }\n</style>\n<table border=\"1\" class=\"dataframe\">\n  <thead>\n    <tr style=\"text-align: right;\">\n      <th></th>\n      <th>1</th>\n      <th>2</th>\n      <th>3</th>\n      <th>4</th>\n      <th>5</th>\n      <th>6</th>\n      <th>7</th>\n    </tr>\n  </thead>\n  <tbody>\n    <tr>\n      <th>0</th>\n      <td>-1.0</td>\n      <td>-1.0</td>\n      <td>4457057</td>\n      <td>广西</td>\n      <td>北海</td>\n      <td>华为</td>\n      <td>华为 mate20pro</td>\n    </tr>\n    <tr>\n      <th>1</th>\n      <td>-1.0</td>\n      <td>5.0</td>\n      <td>10577375</td>\n      <td>广东</td>\n      <td>广州</td>\n      <td>OPPO</td>\n      <td>r11</td>\n    </tr>\n    <tr>\n      <th>2</th>\n      <td>-1.0</td>\n      <td>-1.0</td>\n      <td>11171956</td>\n      <td>内蒙古</td>\n      <td>锡林郭勒盟</td>\n      <td>小米</td>\n      <td>小米 红米note2</td>\n    </tr>\n    <tr>\n      <th>3</th>\n      <td>-1.0</td>\n      <td>2.0</td>\n      <td>4457927</td>\n      <td>四川</td>\n      <td>成都</td>\n      <td>vivo</td>\n      <td>vivo x20</td>\n    </tr>\n    <tr>\n      <th>4</th>\n      <td>-1.0</td>\n      <td>-1.0</td>\n      <td>5737867</td>\n      <td>湖南</td>\n      <td>长沙</td>\n      <td>vivo</td>\n      <td>x23</td>\n    </tr>\n    <tr>\n      <th>...</th>\n      <td>...</td>\n      <td>...</td>\n      <td>...</td>\n      <td>...</td>\n      <td>...</td>\n      <td>...</td>\n      <td>...</td>\n    </tr>\n    <tr>\n      <th>209995</th>\n      <td>-1.0</td>\n      <td>3.0</td>\n      <td>13669217</td>\n      <td>江苏</td>\n      <td>宿迁</td>\n      <td>小米</td>\n      <td>小米 6</td>\n    </tr>\n    <tr>\n      <th>209996</th>\n      <td>0.0</td>\n      <td>5.0</td>\n      <td>13320587</td>\n      <td>北京</td>\n      <td>北京</td>\n      <td>荣耀</td>\n      <td>v8</td>\n    </tr>\n    <tr>\n      <th>209997</th>\n      <td>-1.0</td>\n      <td>3.0</td>\n      <td>10573044</td>\n      <td>湖北</td>\n      <td>襄阳</td>\n      <td>华为</td>\n      <td>华为 畅享9</td>\n    </tr>\n    <tr>\n      <th>209998</th>\n      <td>-1.0</td>\n      <td>1.0</td>\n      <td>10158594</td>\n      <td>湖南</td>\n      <td>常德</td>\n      <td>OPPO</td>\n      <td>r9s</td>\n    </tr>\n    <tr>\n      <th>209999</th>\n      <td>-1.0</td>\n      <td>3.0</td>\n      <td>10978146</td>\n      <td>辽宁</td>\n      <td>沈阳</td>\n      <td>OPPO</td>\n      <td>a7</td>\n    </tr>\n  </tbody>\n</table>\n<p>210000 rows × 7 columns</p>\n</div>"
     },
     "metadata": {},
     "execution_count": 221
    }
   ],
   "source": [
    "X_train"
   ]
  },
  {
   "cell_type": "code",
   "execution_count": 222,
   "metadata": {},
   "outputs": [
    {
     "output_type": "execute_result",
     "data": {
      "text/plain": [
       "          1    2         3   4    5     6           7\n",
       "210000 -1.0  3.0  11180532  河南  平顶山   诺基亚          x6\n",
       "210001 -1.0  3.0  12545416  陕西   安康    华为  华为 畅想9plus\n",
       "210002 -1.0  4.0  12805457  江苏   淮安    小米       小米 6x\n",
       "210003 -1.0 -1.0   5674849  河北   唐山    小米        小米 6\n",
       "210004 -1.0  4.0  12546375  广东   云浮  OPPO          r9\n",
       "...     ...  ...       ...  ..  ...   ...         ...\n",
       "299995  1.0  3.0  12545416  陕西   西安  OPPO          r9\n",
       "299996 -1.0 -1.0  10882324  河南   商丘  OPPO    OPPO r11\n",
       "299997 -1.0  2.0   9302361  福建   厦门  OPPO         r9s\n",
       "299998 -1.0  6.0  10560059  山西   太原  OPPO         a7x\n",
       "299999 -1.0  3.0   9667788  广东   中山  OPPO          a5\n",
       "\n",
       "[90000 rows x 7 columns]"
      ],
      "text/html": "<div>\n<style scoped>\n    .dataframe tbody tr th:only-of-type {\n        vertical-align: middle;\n    }\n\n    .dataframe tbody tr th {\n        vertical-align: top;\n    }\n\n    .dataframe thead th {\n        text-align: right;\n    }\n</style>\n<table border=\"1\" class=\"dataframe\">\n  <thead>\n    <tr style=\"text-align: right;\">\n      <th></th>\n      <th>1</th>\n      <th>2</th>\n      <th>3</th>\n      <th>4</th>\n      <th>5</th>\n      <th>6</th>\n      <th>7</th>\n    </tr>\n  </thead>\n  <tbody>\n    <tr>\n      <th>210000</th>\n      <td>-1.0</td>\n      <td>3.0</td>\n      <td>11180532</td>\n      <td>河南</td>\n      <td>平顶山</td>\n      <td>诺基亚</td>\n      <td>x6</td>\n    </tr>\n    <tr>\n      <th>210001</th>\n      <td>-1.0</td>\n      <td>3.0</td>\n      <td>12545416</td>\n      <td>陕西</td>\n      <td>安康</td>\n      <td>华为</td>\n      <td>华为 畅想9plus</td>\n    </tr>\n    <tr>\n      <th>210002</th>\n      <td>-1.0</td>\n      <td>4.0</td>\n      <td>12805457</td>\n      <td>江苏</td>\n      <td>淮安</td>\n      <td>小米</td>\n      <td>小米 6x</td>\n    </tr>\n    <tr>\n      <th>210003</th>\n      <td>-1.0</td>\n      <td>-1.0</td>\n      <td>5674849</td>\n      <td>河北</td>\n      <td>唐山</td>\n      <td>小米</td>\n      <td>小米 6</td>\n    </tr>\n    <tr>\n      <th>210004</th>\n      <td>-1.0</td>\n      <td>4.0</td>\n      <td>12546375</td>\n      <td>广东</td>\n      <td>云浮</td>\n      <td>OPPO</td>\n      <td>r9</td>\n    </tr>\n    <tr>\n      <th>...</th>\n      <td>...</td>\n      <td>...</td>\n      <td>...</td>\n      <td>...</td>\n      <td>...</td>\n      <td>...</td>\n      <td>...</td>\n    </tr>\n    <tr>\n      <th>299995</th>\n      <td>1.0</td>\n      <td>3.0</td>\n      <td>12545416</td>\n      <td>陕西</td>\n      <td>西安</td>\n      <td>OPPO</td>\n      <td>r9</td>\n    </tr>\n    <tr>\n      <th>299996</th>\n      <td>-1.0</td>\n      <td>-1.0</td>\n      <td>10882324</td>\n      <td>河南</td>\n      <td>商丘</td>\n      <td>OPPO</td>\n      <td>OPPO r11</td>\n    </tr>\n    <tr>\n      <th>299997</th>\n      <td>-1.0</td>\n      <td>2.0</td>\n      <td>9302361</td>\n      <td>福建</td>\n      <td>厦门</td>\n      <td>OPPO</td>\n      <td>r9s</td>\n    </tr>\n    <tr>\n      <th>299998</th>\n      <td>-1.0</td>\n      <td>6.0</td>\n      <td>10560059</td>\n      <td>山西</td>\n      <td>太原</td>\n      <td>OPPO</td>\n      <td>a7x</td>\n    </tr>\n    <tr>\n      <th>299999</th>\n      <td>-1.0</td>\n      <td>3.0</td>\n      <td>9667788</td>\n      <td>广东</td>\n      <td>中山</td>\n      <td>OPPO</td>\n      <td>a5</td>\n    </tr>\n  </tbody>\n</table>\n<p>90000 rows × 7 columns</p>\n</div>"
     },
     "metadata": {},
     "execution_count": 222
    }
   ],
   "source": [
    "X_val"
   ]
  },
  {
   "cell_type": "code",
   "execution_count": 223,
   "metadata": {},
   "outputs": [
    {
     "output_type": "execute_result",
     "data": {
      "text/plain": [
       "(210000, 210000, 90000, 90000, 100000, 100000)"
      ]
     },
     "metadata": {},
     "execution_count": 223
    }
   ],
   "source": [
    "len(X_train), len(y_train), len(X_val), len(y_val), len(X_test), len(y_test),  "
   ]
  },
  {
   "cell_type": "code",
   "execution_count": 224,
   "metadata": {},
   "outputs": [
    {
     "output_type": "execute_result",
     "data": {
      "text/plain": [
       "         1    2         3    4    5     6          7\n",
       "0     -1.0  5.0   4447574   北京   北京    华为      nova2\n",
       "1     -1.0  3.0  11185398   江苏  连云港    魅族   魅族 note8\n",
       "2      0.0  1.0  13498871   四川   德阳  OPPO        a57\n",
       "3     -1.0  3.0  12123770   辽宁   营口  vivo   vivo y75\n",
       "4     -1.0 -1.0  12518145   广西   南宁  vivo   vivo y97\n",
       "...    ...  ...       ...  ...  ...   ...        ...\n",
       "99995 -1.0  1.0     91325   山东   临沂  OPPO   r11splus\n",
       "99996 -1.0  3.0  11871458   安徽   池州  OPPO         a5\n",
       "99997 -1.0 -1.0  10567612   山东   菏泽  vivo  vivo y66i\n",
       "99998 -1.0 -1.0  10757291   四川   雅安  vivo   vivo x20\n",
       "99999 -1.0  1.0  11219658  黑龙江  哈尔滨  OPPO        a73\n",
       "\n",
       "[100000 rows x 7 columns]"
      ],
      "text/html": "<div>\n<style scoped>\n    .dataframe tbody tr th:only-of-type {\n        vertical-align: middle;\n    }\n\n    .dataframe tbody tr th {\n        vertical-align: top;\n    }\n\n    .dataframe thead th {\n        text-align: right;\n    }\n</style>\n<table border=\"1\" class=\"dataframe\">\n  <thead>\n    <tr style=\"text-align: right;\">\n      <th></th>\n      <th>1</th>\n      <th>2</th>\n      <th>3</th>\n      <th>4</th>\n      <th>5</th>\n      <th>6</th>\n      <th>7</th>\n    </tr>\n  </thead>\n  <tbody>\n    <tr>\n      <th>0</th>\n      <td>-1.0</td>\n      <td>5.0</td>\n      <td>4447574</td>\n      <td>北京</td>\n      <td>北京</td>\n      <td>华为</td>\n      <td>nova2</td>\n    </tr>\n    <tr>\n      <th>1</th>\n      <td>-1.0</td>\n      <td>3.0</td>\n      <td>11185398</td>\n      <td>江苏</td>\n      <td>连云港</td>\n      <td>魅族</td>\n      <td>魅族 note8</td>\n    </tr>\n    <tr>\n      <th>2</th>\n      <td>0.0</td>\n      <td>1.0</td>\n      <td>13498871</td>\n      <td>四川</td>\n      <td>德阳</td>\n      <td>OPPO</td>\n      <td>a57</td>\n    </tr>\n    <tr>\n      <th>3</th>\n      <td>-1.0</td>\n      <td>3.0</td>\n      <td>12123770</td>\n      <td>辽宁</td>\n      <td>营口</td>\n      <td>vivo</td>\n      <td>vivo y75</td>\n    </tr>\n    <tr>\n      <th>4</th>\n      <td>-1.0</td>\n      <td>-1.0</td>\n      <td>12518145</td>\n      <td>广西</td>\n      <td>南宁</td>\n      <td>vivo</td>\n      <td>vivo y97</td>\n    </tr>\n    <tr>\n      <th>...</th>\n      <td>...</td>\n      <td>...</td>\n      <td>...</td>\n      <td>...</td>\n      <td>...</td>\n      <td>...</td>\n      <td>...</td>\n    </tr>\n    <tr>\n      <th>99995</th>\n      <td>-1.0</td>\n      <td>1.0</td>\n      <td>91325</td>\n      <td>山东</td>\n      <td>临沂</td>\n      <td>OPPO</td>\n      <td>r11splus</td>\n    </tr>\n    <tr>\n      <th>99996</th>\n      <td>-1.0</td>\n      <td>3.0</td>\n      <td>11871458</td>\n      <td>安徽</td>\n      <td>池州</td>\n      <td>OPPO</td>\n      <td>a5</td>\n    </tr>\n    <tr>\n      <th>99997</th>\n      <td>-1.0</td>\n      <td>-1.0</td>\n      <td>10567612</td>\n      <td>山东</td>\n      <td>菏泽</td>\n      <td>vivo</td>\n      <td>vivo y66i</td>\n    </tr>\n    <tr>\n      <th>99998</th>\n      <td>-1.0</td>\n      <td>-1.0</td>\n      <td>10757291</td>\n      <td>四川</td>\n      <td>雅安</td>\n      <td>vivo</td>\n      <td>vivo x20</td>\n    </tr>\n    <tr>\n      <th>99999</th>\n      <td>-1.0</td>\n      <td>1.0</td>\n      <td>11219658</td>\n      <td>黑龙江</td>\n      <td>哈尔滨</td>\n      <td>OPPO</td>\n      <td>a73</td>\n    </tr>\n  </tbody>\n</table>\n<p>100000 rows × 7 columns</p>\n</div>"
     },
     "metadata": {},
     "execution_count": 224
    }
   ],
   "source": [
    "X_test"
   ]
  },
  {
   "cell_type": "code",
   "execution_count": 184,
   "metadata": {},
   "outputs": [
    {
     "output_type": "execute_result",
     "data": {
      "text/plain": [
       "[2, 3, 4, 5, 6, 7, 8]"
      ]
     },
     "metadata": {},
     "execution_count": 184
    }
   ],
   "source": [
    "list(X_train.columns)"
   ]
  },
  {
   "cell_type": "code",
   "execution_count": 281,
   "metadata": {},
   "outputs": [
    {
     "output_type": "stream",
     "name": "stdout",
     "text": [
      "starting first testing......\n",
      "/usr/local/lib/python3.8/site-packages/lightgbm/basic.py:1702: UserWarning: Using categorical_feature in Dataset.\n",
      "  _log_warning('Using categorical_feature in Dataset.')\n",
      "/usr/local/lib/python3.8/site-packages/lightgbm/basic.py:1705: UserWarning: categorical_feature in Dataset is overridden.\n",
      "New categorical_feature is [1, 2, 3, 4, 5, 6, 7]\n",
      "  _log_warning('categorical_feature in Dataset is overridden.\\n'\n",
      "/usr/local/lib/python3.8/site-packages/lightgbm/basic.py:1433: UserWarning: Overriding the parameters from Reference Dataset.\n",
      "  _log_warning('Overriding the parameters from Reference Dataset.')\n",
      "/usr/local/lib/python3.8/site-packages/lightgbm/basic.py:1245: UserWarning: categorical_column in param dict is overridden.\n",
      "  _log_warning('{} in param dict is overridden.'.format(cat_alias))\n",
      "[1]\tvalid_0's auc: 0.713335\tvalid_0's binary_logloss: 0.685696\n",
      "Training until validation scores don't improve for 200 rounds\n",
      "[2]\tvalid_0's auc: 0.71544\tvalid_0's binary_logloss: 0.678975\n",
      "[3]\tvalid_0's auc: 0.71709\tvalid_0's binary_logloss: 0.672842\n",
      "[4]\tvalid_0's auc: 0.718334\tvalid_0's binary_logloss: 0.667251\n",
      "[5]\tvalid_0's auc: 0.71958\tvalid_0's binary_logloss: 0.662113\n",
      "[6]\tvalid_0's auc: 0.72031\tvalid_0's binary_logloss: 0.657404\n",
      "[7]\tvalid_0's auc: 0.7215\tvalid_0's binary_logloss: 0.653112\n",
      "[8]\tvalid_0's auc: 0.722001\tvalid_0's binary_logloss: 0.649186\n",
      "[9]\tvalid_0's auc: 0.723035\tvalid_0's binary_logloss: 0.645537\n",
      "[10]\tvalid_0's auc: 0.723841\tvalid_0's binary_logloss: 0.642079\n",
      "[11]\tvalid_0's auc: 0.724567\tvalid_0's binary_logloss: 0.63887\n",
      "[12]\tvalid_0's auc: 0.725048\tvalid_0's binary_logloss: 0.635959\n",
      "[13]\tvalid_0's auc: 0.72561\tvalid_0's binary_logloss: 0.633191\n",
      "[14]\tvalid_0's auc: 0.726199\tvalid_0's binary_logloss: 0.630601\n",
      "[15]\tvalid_0's auc: 0.726652\tvalid_0's binary_logloss: 0.628211\n",
      "[16]\tvalid_0's auc: 0.726946\tvalid_0's binary_logloss: 0.626022\n",
      "[17]\tvalid_0's auc: 0.727515\tvalid_0's binary_logloss: 0.623865\n",
      "[18]\tvalid_0's auc: 0.727896\tvalid_0's binary_logloss: 0.621941\n",
      "[19]\tvalid_0's auc: 0.728323\tvalid_0's binary_logloss: 0.620099\n",
      "[20]\tvalid_0's auc: 0.728519\tvalid_0's binary_logloss: 0.618468\n",
      "[21]\tvalid_0's auc: 0.728716\tvalid_0's binary_logloss: 0.616937\n",
      "[22]\tvalid_0's auc: 0.728875\tvalid_0's binary_logloss: 0.61552\n",
      "[23]\tvalid_0's auc: 0.729186\tvalid_0's binary_logloss: 0.614134\n",
      "[24]\tvalid_0's auc: 0.729547\tvalid_0's binary_logloss: 0.612819\n",
      "[25]\tvalid_0's auc: 0.729874\tvalid_0's binary_logloss: 0.611549\n",
      "[26]\tvalid_0's auc: 0.730171\tvalid_0's binary_logloss: 0.610377\n",
      "[27]\tvalid_0's auc: 0.730419\tvalid_0's binary_logloss: 0.609279\n",
      "[28]\tvalid_0's auc: 0.730689\tvalid_0's binary_logloss: 0.608236\n",
      "[29]\tvalid_0's auc: 0.730833\tvalid_0's binary_logloss: 0.60731\n",
      "[30]\tvalid_0's auc: 0.730997\tvalid_0's binary_logloss: 0.60643\n",
      "[31]\tvalid_0's auc: 0.731266\tvalid_0's binary_logloss: 0.605548\n",
      "[32]\tvalid_0's auc: 0.731379\tvalid_0's binary_logloss: 0.60478\n",
      "[33]\tvalid_0's auc: 0.731621\tvalid_0's binary_logloss: 0.604002\n",
      "[34]\tvalid_0's auc: 0.731847\tvalid_0's binary_logloss: 0.603257\n",
      "[35]\tvalid_0's auc: 0.732035\tvalid_0's binary_logloss: 0.602552\n",
      "[36]\tvalid_0's auc: 0.732215\tvalid_0's binary_logloss: 0.601908\n",
      "[37]\tvalid_0's auc: 0.73236\tvalid_0's binary_logloss: 0.6013\n",
      "[38]\tvalid_0's auc: 0.732537\tvalid_0's binary_logloss: 0.600733\n",
      "[39]\tvalid_0's auc: 0.732722\tvalid_0's binary_logloss: 0.600183\n",
      "[40]\tvalid_0's auc: 0.732885\tvalid_0's binary_logloss: 0.599658\n",
      "[41]\tvalid_0's auc: 0.732946\tvalid_0's binary_logloss: 0.59923\n",
      "[42]\tvalid_0's auc: 0.733018\tvalid_0's binary_logloss: 0.598821\n",
      "[43]\tvalid_0's auc: 0.733106\tvalid_0's binary_logloss: 0.598433\n",
      "[44]\tvalid_0's auc: 0.733264\tvalid_0's binary_logloss: 0.598025\n",
      "[45]\tvalid_0's auc: 0.733354\tvalid_0's binary_logloss: 0.597675\n",
      "[46]\tvalid_0's auc: 0.73335\tvalid_0's binary_logloss: 0.597386\n",
      "[47]\tvalid_0's auc: 0.733431\tvalid_0's binary_logloss: 0.597076\n",
      "[48]\tvalid_0's auc: 0.733573\tvalid_0's binary_logloss: 0.596746\n",
      "[49]\tvalid_0's auc: 0.733607\tvalid_0's binary_logloss: 0.596491\n",
      "[50]\tvalid_0's auc: 0.73361\tvalid_0's binary_logloss: 0.596273\n",
      "[51]\tvalid_0's auc: 0.73371\tvalid_0's binary_logloss: 0.596011\n",
      "[52]\tvalid_0's auc: 0.733768\tvalid_0's binary_logloss: 0.59578\n",
      "[53]\tvalid_0's auc: 0.733847\tvalid_0's binary_logloss: 0.595551\n",
      "[54]\tvalid_0's auc: 0.733909\tvalid_0's binary_logloss: 0.595349\n",
      "[55]\tvalid_0's auc: 0.73393\tvalid_0's binary_logloss: 0.595182\n",
      "[56]\tvalid_0's auc: 0.733924\tvalid_0's binary_logloss: 0.595041\n",
      "[57]\tvalid_0's auc: 0.733975\tvalid_0's binary_logloss: 0.594874\n",
      "[58]\tvalid_0's auc: 0.734036\tvalid_0's binary_logloss: 0.5947\n",
      "[59]\tvalid_0's auc: 0.73405\tvalid_0's binary_logloss: 0.594573\n",
      "[60]\tvalid_0's auc: 0.734055\tvalid_0's binary_logloss: 0.594457\n",
      "[61]\tvalid_0's auc: 0.734106\tvalid_0's binary_logloss: 0.594316\n",
      "[62]\tvalid_0's auc: 0.734089\tvalid_0's binary_logloss: 0.594227\n",
      "[63]\tvalid_0's auc: 0.734105\tvalid_0's binary_logloss: 0.594116\n",
      "[64]\tvalid_0's auc: 0.734086\tvalid_0's binary_logloss: 0.594042\n",
      "[65]\tvalid_0's auc: 0.7341\tvalid_0's binary_logloss: 0.593946\n",
      "[66]\tvalid_0's auc: 0.734148\tvalid_0's binary_logloss: 0.593853\n",
      "[67]\tvalid_0's auc: 0.734132\tvalid_0's binary_logloss: 0.593802\n",
      "[68]\tvalid_0's auc: 0.734105\tvalid_0's binary_logloss: 0.593766\n",
      "[69]\tvalid_0's auc: 0.734089\tvalid_0's binary_logloss: 0.593731\n",
      "[70]\tvalid_0's auc: 0.734104\tvalid_0's binary_logloss: 0.59368\n",
      "[71]\tvalid_0's auc: 0.734133\tvalid_0's binary_logloss: 0.593627\n",
      "[72]\tvalid_0's auc: 0.734099\tvalid_0's binary_logloss: 0.593623\n",
      "[73]\tvalid_0's auc: 0.734088\tvalid_0's binary_logloss: 0.593602\n",
      "[74]\tvalid_0's auc: 0.734082\tvalid_0's binary_logloss: 0.593576\n",
      "[75]\tvalid_0's auc: 0.734083\tvalid_0's binary_logloss: 0.593552\n",
      "[76]\tvalid_0's auc: 0.734131\tvalid_0's binary_logloss: 0.593502\n",
      "[77]\tvalid_0's auc: 0.734188\tvalid_0's binary_logloss: 0.593432\n",
      "[78]\tvalid_0's auc: 0.734228\tvalid_0's binary_logloss: 0.593391\n",
      "[79]\tvalid_0's auc: 0.734193\tvalid_0's binary_logloss: 0.593405\n",
      "[80]\tvalid_0's auc: 0.734148\tvalid_0's binary_logloss: 0.593415\n",
      "[81]\tvalid_0's auc: 0.734178\tvalid_0's binary_logloss: 0.593395\n",
      "[82]\tvalid_0's auc: 0.734165\tvalid_0's binary_logloss: 0.593396\n",
      "[83]\tvalid_0's auc: 0.734116\tvalid_0's binary_logloss: 0.593418\n",
      "[84]\tvalid_0's auc: 0.734136\tvalid_0's binary_logloss: 0.593398\n",
      "[85]\tvalid_0's auc: 0.734163\tvalid_0's binary_logloss: 0.593379\n",
      "[86]\tvalid_0's auc: 0.734157\tvalid_0's binary_logloss: 0.593382\n",
      "[87]\tvalid_0's auc: 0.73414\tvalid_0's binary_logloss: 0.593391\n",
      "[88]\tvalid_0's auc: 0.734125\tvalid_0's binary_logloss: 0.593392\n",
      "[89]\tvalid_0's auc: 0.734107\tvalid_0's binary_logloss: 0.593396\n",
      "[90]\tvalid_0's auc: 0.734067\tvalid_0's binary_logloss: 0.593428\n",
      "[91]\tvalid_0's auc: 0.734086\tvalid_0's binary_logloss: 0.593417\n",
      "[92]\tvalid_0's auc: 0.734057\tvalid_0's binary_logloss: 0.593437\n",
      "[93]\tvalid_0's auc: 0.734051\tvalid_0's binary_logloss: 0.593444\n",
      "[94]\tvalid_0's auc: 0.734002\tvalid_0's binary_logloss: 0.593479\n",
      "[95]\tvalid_0's auc: 0.734012\tvalid_0's binary_logloss: 0.593484\n",
      "[96]\tvalid_0's auc: 0.734002\tvalid_0's binary_logloss: 0.593499\n",
      "[97]\tvalid_0's auc: 0.734014\tvalid_0's binary_logloss: 0.593491\n",
      "[98]\tvalid_0's auc: 0.733984\tvalid_0's binary_logloss: 0.593517\n",
      "[99]\tvalid_0's auc: 0.733947\tvalid_0's binary_logloss: 0.593553\n",
      "[100]\tvalid_0's auc: 0.733923\tvalid_0's binary_logloss: 0.593573\n",
      "[101]\tvalid_0's auc: 0.733933\tvalid_0's binary_logloss: 0.593574\n",
      "[102]\tvalid_0's auc: 0.733902\tvalid_0's binary_logloss: 0.593603\n",
      "[103]\tvalid_0's auc: 0.733908\tvalid_0's binary_logloss: 0.593609\n",
      "[104]\tvalid_0's auc: 0.733861\tvalid_0's binary_logloss: 0.593647\n",
      "[105]\tvalid_0's auc: 0.733856\tvalid_0's binary_logloss: 0.593662\n",
      "[106]\tvalid_0's auc: 0.733869\tvalid_0's binary_logloss: 0.593661\n",
      "[107]\tvalid_0's auc: 0.733843\tvalid_0's binary_logloss: 0.593695\n",
      "[108]\tvalid_0's auc: 0.733859\tvalid_0's binary_logloss: 0.593695\n",
      "[109]\tvalid_0's auc: 0.733838\tvalid_0's binary_logloss: 0.593713\n",
      "[110]\tvalid_0's auc: 0.733817\tvalid_0's binary_logloss: 0.593736\n",
      "[111]\tvalid_0's auc: 0.733773\tvalid_0's binary_logloss: 0.593788\n",
      "[112]\tvalid_0's auc: 0.733753\tvalid_0's binary_logloss: 0.593816\n",
      "[113]\tvalid_0's auc: 0.733742\tvalid_0's binary_logloss: 0.593839\n",
      "[114]\tvalid_0's auc: 0.733727\tvalid_0's binary_logloss: 0.59386\n",
      "[115]\tvalid_0's auc: 0.733673\tvalid_0's binary_logloss: 0.593905\n",
      "[116]\tvalid_0's auc: 0.73369\tvalid_0's binary_logloss: 0.593909\n",
      "[117]\tvalid_0's auc: 0.733688\tvalid_0's binary_logloss: 0.593914\n",
      "[118]\tvalid_0's auc: 0.733694\tvalid_0's binary_logloss: 0.593927\n",
      "[119]\tvalid_0's auc: 0.733691\tvalid_0's binary_logloss: 0.593939\n",
      "[120]\tvalid_0's auc: 0.733707\tvalid_0's binary_logloss: 0.593942\n",
      "[121]\tvalid_0's auc: 0.733697\tvalid_0's binary_logloss: 0.59396\n",
      "[122]\tvalid_0's auc: 0.733665\tvalid_0's binary_logloss: 0.593992\n",
      "[123]\tvalid_0's auc: 0.733668\tvalid_0's binary_logloss: 0.594006\n",
      "[124]\tvalid_0's auc: 0.733612\tvalid_0's binary_logloss: 0.594056\n",
      "[125]\tvalid_0's auc: 0.733569\tvalid_0's binary_logloss: 0.594098\n",
      "[126]\tvalid_0's auc: 0.733557\tvalid_0's binary_logloss: 0.594113\n",
      "[127]\tvalid_0's auc: 0.73355\tvalid_0's binary_logloss: 0.594135\n",
      "[128]\tvalid_0's auc: 0.733541\tvalid_0's binary_logloss: 0.594149\n",
      "[129]\tvalid_0's auc: 0.733492\tvalid_0's binary_logloss: 0.594198\n",
      "[130]\tvalid_0's auc: 0.733495\tvalid_0's binary_logloss: 0.594208\n",
      "[131]\tvalid_0's auc: 0.733516\tvalid_0's binary_logloss: 0.594196\n",
      "[132]\tvalid_0's auc: 0.733449\tvalid_0's binary_logloss: 0.594254\n",
      "[133]\tvalid_0's auc: 0.733464\tvalid_0's binary_logloss: 0.594259\n",
      "[134]\tvalid_0's auc: 0.733437\tvalid_0's binary_logloss: 0.594282\n",
      "[135]\tvalid_0's auc: 0.733448\tvalid_0's binary_logloss: 0.594285\n",
      "[136]\tvalid_0's auc: 0.733413\tvalid_0's binary_logloss: 0.594319\n",
      "[137]\tvalid_0's auc: 0.733407\tvalid_0's binary_logloss: 0.59434\n",
      "[138]\tvalid_0's auc: 0.733383\tvalid_0's binary_logloss: 0.594369\n",
      "[139]\tvalid_0's auc: 0.73337\tvalid_0's binary_logloss: 0.594399\n",
      "[140]\tvalid_0's auc: 0.733329\tvalid_0's binary_logloss: 0.594429\n",
      "[141]\tvalid_0's auc: 0.733327\tvalid_0's binary_logloss: 0.594439\n",
      "[142]\tvalid_0's auc: 0.733351\tvalid_0's binary_logloss: 0.594434\n",
      "[143]\tvalid_0's auc: 0.733319\tvalid_0's binary_logloss: 0.594464\n",
      "[144]\tvalid_0's auc: 0.733315\tvalid_0's binary_logloss: 0.594484\n",
      "[145]\tvalid_0's auc: 0.733305\tvalid_0's binary_logloss: 0.594505\n",
      "[146]\tvalid_0's auc: 0.7333\tvalid_0's binary_logloss: 0.594523\n",
      "[147]\tvalid_0's auc: 0.733278\tvalid_0's binary_logloss: 0.594552\n",
      "[148]\tvalid_0's auc: 0.733245\tvalid_0's binary_logloss: 0.594588\n",
      "[149]\tvalid_0's auc: 0.733206\tvalid_0's binary_logloss: 0.594626\n",
      "[150]\tvalid_0's auc: 0.733207\tvalid_0's binary_logloss: 0.594628\n",
      "[151]\tvalid_0's auc: 0.73321\tvalid_0's binary_logloss: 0.594635\n",
      "[152]\tvalid_0's auc: 0.733195\tvalid_0's binary_logloss: 0.594656\n",
      "[153]\tvalid_0's auc: 0.7332\tvalid_0's binary_logloss: 0.594656\n",
      "[154]\tvalid_0's auc: 0.733158\tvalid_0's binary_logloss: 0.594695\n",
      "[155]\tvalid_0's auc: 0.733109\tvalid_0's binary_logloss: 0.594737\n",
      "[156]\tvalid_0's auc: 0.733118\tvalid_0's binary_logloss: 0.594737\n",
      "[157]\tvalid_0's auc: 0.733064\tvalid_0's binary_logloss: 0.594791\n",
      "[158]\tvalid_0's auc: 0.733061\tvalid_0's binary_logloss: 0.594803\n",
      "[159]\tvalid_0's auc: 0.733062\tvalid_0's binary_logloss: 0.59481\n",
      "[160]\tvalid_0's auc: 0.733068\tvalid_0's binary_logloss: 0.594815\n",
      "[161]\tvalid_0's auc: 0.733048\tvalid_0's binary_logloss: 0.594835\n",
      "[162]\tvalid_0's auc: 0.733029\tvalid_0's binary_logloss: 0.594864\n",
      "[163]\tvalid_0's auc: 0.733026\tvalid_0's binary_logloss: 0.594872\n",
      "[164]\tvalid_0's auc: 0.73301\tvalid_0's binary_logloss: 0.594891\n",
      "[165]\tvalid_0's auc: 0.733007\tvalid_0's binary_logloss: 0.594908\n",
      "[166]\tvalid_0's auc: 0.732971\tvalid_0's binary_logloss: 0.594942\n",
      "[167]\tvalid_0's auc: 0.732936\tvalid_0's binary_logloss: 0.594978\n",
      "[168]\tvalid_0's auc: 0.73289\tvalid_0's binary_logloss: 0.595024\n",
      "[169]\tvalid_0's auc: 0.732878\tvalid_0's binary_logloss: 0.595046\n",
      "[170]\tvalid_0's auc: 0.732876\tvalid_0's binary_logloss: 0.595048\n",
      "[171]\tvalid_0's auc: 0.732861\tvalid_0's binary_logloss: 0.595072\n",
      "[172]\tvalid_0's auc: 0.732851\tvalid_0's binary_logloss: 0.595087\n",
      "[173]\tvalid_0's auc: 0.732848\tvalid_0's binary_logloss: 0.595109\n",
      "[174]\tvalid_0's auc: 0.732823\tvalid_0's binary_logloss: 0.595135\n",
      "[175]\tvalid_0's auc: 0.732829\tvalid_0's binary_logloss: 0.595145\n",
      "[176]\tvalid_0's auc: 0.732793\tvalid_0's binary_logloss: 0.595183\n",
      "[177]\tvalid_0's auc: 0.732789\tvalid_0's binary_logloss: 0.595195\n",
      "[178]\tvalid_0's auc: 0.732785\tvalid_0's binary_logloss: 0.595203\n",
      "[179]\tvalid_0's auc: 0.73275\tvalid_0's binary_logloss: 0.595233\n",
      "[180]\tvalid_0's auc: 0.732741\tvalid_0's binary_logloss: 0.595247\n",
      "[181]\tvalid_0's auc: 0.732695\tvalid_0's binary_logloss: 0.595288\n",
      "[182]\tvalid_0's auc: 0.732652\tvalid_0's binary_logloss: 0.595333\n",
      "[183]\tvalid_0's auc: 0.732656\tvalid_0's binary_logloss: 0.595344\n",
      "[184]\tvalid_0's auc: 0.732636\tvalid_0's binary_logloss: 0.595366\n",
      "[185]\tvalid_0's auc: 0.732631\tvalid_0's binary_logloss: 0.595382\n",
      "[186]\tvalid_0's auc: 0.732626\tvalid_0's binary_logloss: 0.595394\n",
      "[187]\tvalid_0's auc: 0.732582\tvalid_0's binary_logloss: 0.595436\n",
      "[188]\tvalid_0's auc: 0.732579\tvalid_0's binary_logloss: 0.595443\n",
      "[189]\tvalid_0's auc: 0.73258\tvalid_0's binary_logloss: 0.595446\n",
      "[190]\tvalid_0's auc: 0.732572\tvalid_0's binary_logloss: 0.595458\n",
      "[191]\tvalid_0's auc: 0.732583\tvalid_0's binary_logloss: 0.595456\n",
      "[192]\tvalid_0's auc: 0.732528\tvalid_0's binary_logloss: 0.595501\n",
      "[193]\tvalid_0's auc: 0.732529\tvalid_0's binary_logloss: 0.595508\n",
      "[194]\tvalid_0's auc: 0.732505\tvalid_0's binary_logloss: 0.595527\n",
      "[195]\tvalid_0's auc: 0.732486\tvalid_0's binary_logloss: 0.59555\n",
      "[196]\tvalid_0's auc: 0.73247\tvalid_0's binary_logloss: 0.595568\n",
      "[197]\tvalid_0's auc: 0.732445\tvalid_0's binary_logloss: 0.595591\n",
      "[198]\tvalid_0's auc: 0.732414\tvalid_0's binary_logloss: 0.595624\n",
      "[199]\tvalid_0's auc: 0.732418\tvalid_0's binary_logloss: 0.595634\n",
      "[200]\tvalid_0's auc: 0.732401\tvalid_0's binary_logloss: 0.595657\n",
      "[201]\tvalid_0's auc: 0.732393\tvalid_0's binary_logloss: 0.595678\n",
      "[202]\tvalid_0's auc: 0.732402\tvalid_0's binary_logloss: 0.595674\n",
      "[203]\tvalid_0's auc: 0.732392\tvalid_0's binary_logloss: 0.595691\n",
      "[204]\tvalid_0's auc: 0.732398\tvalid_0's binary_logloss: 0.595697\n",
      "[205]\tvalid_0's auc: 0.732411\tvalid_0's binary_logloss: 0.595693\n",
      "[206]\tvalid_0's auc: 0.732417\tvalid_0's binary_logloss: 0.595699\n",
      "[207]\tvalid_0's auc: 0.732387\tvalid_0's binary_logloss: 0.59573\n",
      "[208]\tvalid_0's auc: 0.732385\tvalid_0's binary_logloss: 0.595735\n",
      "[209]\tvalid_0's auc: 0.732388\tvalid_0's binary_logloss: 0.595739\n",
      "[210]\tvalid_0's auc: 0.732383\tvalid_0's binary_logloss: 0.595754\n",
      "[211]\tvalid_0's auc: 0.732374\tvalid_0's binary_logloss: 0.595775\n",
      "[212]\tvalid_0's auc: 0.732347\tvalid_0's binary_logloss: 0.595795\n",
      "[213]\tvalid_0's auc: 0.732295\tvalid_0's binary_logloss: 0.595835\n",
      "[214]\tvalid_0's auc: 0.732232\tvalid_0's binary_logloss: 0.595895\n",
      "[215]\tvalid_0's auc: 0.732195\tvalid_0's binary_logloss: 0.595932\n",
      "[216]\tvalid_0's auc: 0.732189\tvalid_0's binary_logloss: 0.595945\n",
      "[217]\tvalid_0's auc: 0.732179\tvalid_0's binary_logloss: 0.595954\n",
      "[218]\tvalid_0's auc: 0.732159\tvalid_0's binary_logloss: 0.59598\n",
      "[219]\tvalid_0's auc: 0.732138\tvalid_0's binary_logloss: 0.596001\n",
      "[220]\tvalid_0's auc: 0.732131\tvalid_0's binary_logloss: 0.596008\n",
      "[221]\tvalid_0's auc: 0.73212\tvalid_0's binary_logloss: 0.596024\n",
      "[222]\tvalid_0's auc: 0.732105\tvalid_0's binary_logloss: 0.596049\n",
      "[223]\tvalid_0's auc: 0.732051\tvalid_0's binary_logloss: 0.596092\n",
      "[224]\tvalid_0's auc: 0.732028\tvalid_0's binary_logloss: 0.596115\n",
      "[225]\tvalid_0's auc: 0.732029\tvalid_0's binary_logloss: 0.596119\n",
      "[226]\tvalid_0's auc: 0.731996\tvalid_0's binary_logloss: 0.596153\n",
      "[227]\tvalid_0's auc: 0.731983\tvalid_0's binary_logloss: 0.596172\n",
      "[228]\tvalid_0's auc: 0.731998\tvalid_0's binary_logloss: 0.596174\n",
      "[229]\tvalid_0's auc: 0.731988\tvalid_0's binary_logloss: 0.596181\n",
      "[230]\tvalid_0's auc: 0.731936\tvalid_0's binary_logloss: 0.596226\n",
      "[231]\tvalid_0's auc: 0.731928\tvalid_0's binary_logloss: 0.596241\n",
      "[232]\tvalid_0's auc: 0.731922\tvalid_0's binary_logloss: 0.596252\n",
      "[233]\tvalid_0's auc: 0.731928\tvalid_0's binary_logloss: 0.596259\n",
      "[234]\tvalid_0's auc: 0.731922\tvalid_0's binary_logloss: 0.59627\n",
      "[235]\tvalid_0's auc: 0.731892\tvalid_0's binary_logloss: 0.596294\n",
      "[236]\tvalid_0's auc: 0.731901\tvalid_0's binary_logloss: 0.596293\n",
      "[237]\tvalid_0's auc: 0.731883\tvalid_0's binary_logloss: 0.59631\n",
      "[238]\tvalid_0's auc: 0.731873\tvalid_0's binary_logloss: 0.596325\n",
      "[239]\tvalid_0's auc: 0.731843\tvalid_0's binary_logloss: 0.596354\n",
      "[240]\tvalid_0's auc: 0.731821\tvalid_0's binary_logloss: 0.596386\n",
      "[241]\tvalid_0's auc: 0.731803\tvalid_0's binary_logloss: 0.596401\n",
      "[242]\tvalid_0's auc: 0.731788\tvalid_0's binary_logloss: 0.596416\n",
      "[243]\tvalid_0's auc: 0.731798\tvalid_0's binary_logloss: 0.596414\n",
      "[244]\tvalid_0's auc: 0.731774\tvalid_0's binary_logloss: 0.596444\n",
      "[245]\tvalid_0's auc: 0.731779\tvalid_0's binary_logloss: 0.596446\n",
      "[246]\tvalid_0's auc: 0.73178\tvalid_0's binary_logloss: 0.596456\n",
      "[247]\tvalid_0's auc: 0.731774\tvalid_0's binary_logloss: 0.596462\n",
      "[248]\tvalid_0's auc: 0.73176\tvalid_0's binary_logloss: 0.596479\n",
      "[249]\tvalid_0's auc: 0.731748\tvalid_0's binary_logloss: 0.596488\n",
      "[250]\tvalid_0's auc: 0.731711\tvalid_0's binary_logloss: 0.59652\n",
      "[251]\tvalid_0's auc: 0.731703\tvalid_0's binary_logloss: 0.596528\n",
      "[252]\tvalid_0's auc: 0.73171\tvalid_0's binary_logloss: 0.596529\n",
      "[253]\tvalid_0's auc: 0.73167\tvalid_0's binary_logloss: 0.596561\n",
      "[254]\tvalid_0's auc: 0.731618\tvalid_0's binary_logloss: 0.596605\n",
      "[255]\tvalid_0's auc: 0.731584\tvalid_0's binary_logloss: 0.596642\n",
      "[256]\tvalid_0's auc: 0.731574\tvalid_0's binary_logloss: 0.59666\n",
      "[257]\tvalid_0's auc: 0.731566\tvalid_0's binary_logloss: 0.596676\n",
      "[258]\tvalid_0's auc: 0.731529\tvalid_0's binary_logloss: 0.596717\n",
      "[259]\tvalid_0's auc: 0.731501\tvalid_0's binary_logloss: 0.596743\n",
      "[260]\tvalid_0's auc: 0.731482\tvalid_0's binary_logloss: 0.596764\n",
      "[261]\tvalid_0's auc: 0.731482\tvalid_0's binary_logloss: 0.596772\n",
      "[262]\tvalid_0's auc: 0.731462\tvalid_0's binary_logloss: 0.596795\n",
      "[263]\tvalid_0's auc: 0.731447\tvalid_0's binary_logloss: 0.596818\n",
      "[264]\tvalid_0's auc: 0.731427\tvalid_0's binary_logloss: 0.596842\n",
      "[265]\tvalid_0's auc: 0.731391\tvalid_0's binary_logloss: 0.596879\n",
      "[266]\tvalid_0's auc: 0.731379\tvalid_0's binary_logloss: 0.596896\n",
      "[267]\tvalid_0's auc: 0.73135\tvalid_0's binary_logloss: 0.596928\n",
      "[268]\tvalid_0's auc: 0.73135\tvalid_0's binary_logloss: 0.596932\n",
      "[269]\tvalid_0's auc: 0.731326\tvalid_0's binary_logloss: 0.596962\n",
      "[270]\tvalid_0's auc: 0.731328\tvalid_0's binary_logloss: 0.59696\n",
      "[271]\tvalid_0's auc: 0.731324\tvalid_0's binary_logloss: 0.596975\n",
      "[272]\tvalid_0's auc: 0.731299\tvalid_0's binary_logloss: 0.597\n",
      "[273]\tvalid_0's auc: 0.731277\tvalid_0's binary_logloss: 0.597031\n",
      "[274]\tvalid_0's auc: 0.731263\tvalid_0's binary_logloss: 0.597049\n",
      "[275]\tvalid_0's auc: 0.731264\tvalid_0's binary_logloss: 0.597056\n",
      "[276]\tvalid_0's auc: 0.731247\tvalid_0's binary_logloss: 0.597073\n",
      "[277]\tvalid_0's auc: 0.731235\tvalid_0's binary_logloss: 0.597081\n",
      "[278]\tvalid_0's auc: 0.731218\tvalid_0's binary_logloss: 0.597102\n",
      "Early stopping, best iteration is:\n",
      "[78]\tvalid_0's auc: 0.734228\tvalid_0's binary_logloss: 0.593391\n"
     ]
    },
    {
     "output_type": "execute_result",
     "data": {
      "text/plain": [
       "LGBMClassifier(colsample_bytree=1, learning_rate=0.05, min_child_weight=50,\n",
       "               n_estimators=1500, n_jobs=100, num_leaves=50, objective='binary',\n",
       "               random_state=2018, reg_lambda=1, subsample=1, subsample_freq=1)"
      ]
     },
     "metadata": {},
     "execution_count": 281
    }
   ],
   "source": [
    "print(\"starting first testing......\")  \n",
    "clf = lgb.LGBMClassifier(  \n",
    "        boosting_type='gbdt', num_leaves=50, reg_alpha=0.0, reg_lambda=1,  \n",
    "        max_depth=-1, n_estimators=1500, objective='binary',  \n",
    "        subsample=1, colsample_bytree=1, subsample_freq=1,  \n",
    "        learning_rate=0.05, min_child_weight=50, random_state=2018, n_jobs=100  \n",
    "    )  \n",
    "\n",
    "clf.fit(X_train, y_train, eval_set=[(X_val, y_val)], eval_metric='auc',early_stopping_rounds=200, categorical_feature=list(X_train.columns))  "
   ]
  },
  {
   "cell_type": "code",
   "execution_count": 278,
   "metadata": {},
   "outputs": [
    {
     "output_type": "execute_result",
     "data": {
      "text/plain": [
       "78"
      ]
     },
     "metadata": {},
     "execution_count": 278
    }
   ],
   "source": [
    "clf.best_iteration_"
   ]
  },
  {
   "cell_type": "code",
   "execution_count": 283,
   "metadata": {},
   "outputs": [
    {
     "output_type": "stream",
     "name": "stderr",
     "text": [
      "/usr/local/lib/python3.8/site-packages/lightgbm/basic.py:1702: UserWarning: Using categorical_feature in Dataset.\n",
      "  _log_warning('Using categorical_feature in Dataset.')\n",
      "[LightGBM] [Info] Number of positive: 150000, number of negative: 150000\n",
      "[LightGBM] [Warning] Auto-choosing col-wise multi-threading, the overhead of testing was 0.007065 seconds.\n",
      "You can set `force_col_wise=true` to remove the overhead.\n",
      "[LightGBM] [Info] Total Bins 5508\n",
      "[LightGBM] [Info] Number of data points in the train set: 300000, number of used features: 7\n",
      "[LightGBM] [Info] [binary:BoostFromScore]: pavg=0.500000 -> initscore=0.000000\n"
     ]
    },
    {
     "output_type": "execute_result",
     "data": {
      "text/plain": [
       "LGBMClassifier(colsample_bytree=1, learning_rate=0.05, min_child_weight=50,\n",
       "               n_estimators=88, n_jobs=100, num_leaves=50, objective='binary',\n",
       "               random_state=2018, reg_lambda=1, subsample=1, subsample_freq=1,\n",
       "               verbose=1)"
      ]
     },
     "metadata": {},
     "execution_count": 283
    }
   ],
   "source": [
    "clf_all = lgb.LGBMClassifier(  \n",
    "        boosting_type='gbdt', num_leaves=50, reg_alpha=0.0, reg_lambda=1,  \n",
    "        max_depth=-1, n_estimators=clf.best_iteration_+10, objective='binary',  \n",
    "        subsample=1, colsample_bytree=1, subsample_freq=1,  \n",
    "        learning_rate=0.05, min_child_weight=50, random_state=2018, n_jobs=100,\n",
    "        verbose=1\n",
    "    )  \n",
    "\n",
    "clf_all.fit(All_X_train, All_y_train, categorical_feature=list(X_train.columns))  "
   ]
  },
  {
   "cell_type": "code",
   "execution_count": 286,
   "metadata": {},
   "outputs": [
    {
     "output_type": "stream",
     "name": "stdout",
     "text": [
      "0.6631535464278936\n",
      "0.6975382182980193\n"
     ]
    }
   ],
   "source": [
    "import sklearn\n",
    "y_val_pre = clf.predict(X_val)  \n",
    "print(sklearn.metrics.f1_score(y_val, y_val_pre, labels=None, pos_label=1, average='binary', sample_weight=None, zero_division='warn'))\n",
    "y_val_pre = clf_all.predict(X_val)  \n",
    "print(sklearn.metrics.f1_score(y_val, y_val_pre, labels=None, pos_label=1, average='binary', sample_weight=None, zero_division='warn'))"
   ]
  },
  {
   "cell_type": "code",
   "execution_count": 287,
   "metadata": {},
   "outputs": [
    {
     "output_type": "execute_result",
     "data": {
      "text/plain": [
       "array([0, 0, 0, ..., 1, 0, 0])"
      ]
     },
     "metadata": {},
     "execution_count": 287
    }
   ],
   "source": [
    "y_test_pre = clf_all.predict(X_test)\n",
    "y_test_pre  "
   ]
  },
  {
   "cell_type": "code",
   "execution_count": 288,
   "metadata": {},
   "outputs": [],
   "source": [
    "import time\n",
    "t = time.strftime(\"%Y-%m-%d-%H-%M-%S\", time.localtime())\n",
    "res = pd.DataFrame(index = test_user_id, data = y_test_pre)\n",
    "res.index.name = \"user_id\"\n",
    "res.to_csv(r\"./sub/sub_{}.csv\".format(t), header=[\"category_id\"])"
   ]
  },
  {
   "cell_type": "code",
   "execution_count": null,
   "metadata": {},
   "outputs": [],
   "source": []
  }
 ]
}